{
 "cells": [
  {
   "cell_type": "code",
   "execution_count": 1,
   "id": "2e297c6e",
   "metadata": {},
   "outputs": [],
   "source": [
    "# Cryptocurrency Wallet\n",
    "################################################################################\n",
    "\n",
    "# This file contains the Ethereum transaction functions that you have created throughout this module’s lessons.\n",
    "# By using import statements, you will integrate this `crypto_wallet.py` Python script\n",
    "# into the KryptoJobs2Go interface program that is found in the `krypto_jobs.py` file.\n",
    "\n",
    "################################################################################"
   ]
  },
  {
   "cell_type": "code",
   "execution_count": 2,
   "id": "4339d537",
   "metadata": {},
   "outputs": [],
   "source": [
    "# Imports\n",
    "import os\n",
    "import requests\n",
    "from dotenv import load_dotenv\n",
    "\n",
    "load_dotenv()\n",
    "from bip44 import Wallet\n",
    "from web3 import Account\n",
    "from web3 import middleware\n",
    "from web3.gas_strategies.time_based import medium_gas_price_strategy"
   ]
  },
  {
   "cell_type": "code",
   "execution_count": 3,
   "id": "4ac8131d",
   "metadata": {},
   "outputs": [],
   "source": [
    "################################################################################\n",
    "# Wallet functionality\n",
    "\n",
    "\n",
    "def generate_account():\n",
    "    \"\"\"Create a digital wallet and Ethereum account from a mnemonic seed phrase.\"\"\"\n",
    "    # Fetch mnemonic from environment variable.\n",
    "    load_dotenv(\"SAMPLE.env\")\n",
    "    mnemonic = os.getenv(\"MNEMONIC\")\n",
    "\n",
    "    # Create Wallet Object\n",
    "    wallet = Wallet(mnemonic)\n",
    "\n",
    "    # Derive Ethereum Private Key\n",
    "    private, public = wallet.derive_account(\"eth\")\n",
    "\n",
    "    # Convert private key into an Ethereum account\n",
    "    account = Account.privateKeyToAccount(private)\n",
    "\n",
    "    return account"
   ]
  },
  {
   "cell_type": "code",
   "execution_count": 4,
   "id": "90169125",
   "metadata": {},
   "outputs": [],
   "source": [
    "def get_balance(w3, address):\n",
    "    \"\"\"Using an Ethereum account address access the balance of Ether\"\"\"\n",
    "    # Get balance of address in Wei\n",
    "    wei_balance = w3.eth.get_balance(address)\n",
    "\n",
    "    # Convert Wei value to ether\n",
    "    ether = w3.fromWei(wei_balance, \"ether\")\n",
    "\n",
    "    # Return the value in ether\n",
    "    return ether"
   ]
  },
  {
   "cell_type": "code",
   "execution_count": 5,
   "id": "6c9bdddc",
   "metadata": {},
   "outputs": [],
   "source": [
    "def send_transaction(w3, account, to, wage):\n",
    "    \"\"\"Send an authorized transaction to the Ganache blockchain.\"\"\"\n",
    "    # Set gas price strategy\n",
    "    w3.eth.setGasPriceStrategy(medium_gas_price_strategy)\n",
    "\n",
    "    # Convert eth amount to Wei\n",
    "    value = w3.toWei(wage, \"ether\")\n",
    "\n",
    "    # Calculate gas estimate\n",
    "    gasEstimate = w3.eth.estimateGas(\n",
    "        {\"to\": to, \"from\": account.address, \"value\": value}\n",
    "    )\n",
    "\n",
    "    # Construct a raw transaction\n",
    "    raw_tx = {\n",
    "        \"to\": to,\n",
    "        \"from\": account.address,\n",
    "        \"value\": value,\n",
    "        \"gas\": gasEstimate,\n",
    "        \"gasPrice\": 0,\n",
    "        \"nonce\": w3.eth.getTransactionCount(account.address),\n",
    "    }\n",
    "\n",
    "    # Sign the raw transaction with ethereum account\n",
    "    signed_tx = account.signTransaction(raw_tx)\n",
    "\n",
    "    # Send the signed transactions\n",
    "    return w3.eth.sendRawTransaction(signed_tx.rawTransaction)"
   ]
  }
 ],
 "metadata": {
  "kernelspec": {
   "display_name": "dev1",
   "language": "python",
   "name": "dev1"
  },
  "language_info": {
   "codemirror_mode": {
    "name": "ipython",
    "version": 3
   },
   "file_extension": ".py",
   "mimetype": "text/x-python",
   "name": "python",
   "nbconvert_exporter": "python",
   "pygments_lexer": "ipython3",
   "version": "3.9.12"
  }
 },
 "nbformat": 4,
 "nbformat_minor": 5
}
