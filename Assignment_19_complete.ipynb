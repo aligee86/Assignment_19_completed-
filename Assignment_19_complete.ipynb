{
 "cells": [
  {
   "cell_type": "code",
   "execution_count": 1,
   "id": "e95c3744",
   "metadata": {},
   "outputs": [],
   "source": [
    "# Cryptocurrency Wallet\n",
    "\n",
    "################################################################################\n",
    "# For this Challenge, you will assume the perspective of a KryptoJobs2Go\n",
    "# customer in order to do the following:\n",
    "\n",
    "# * Generate a new Ethereum account instance by using your mnemonic seed phrase\n",
    "# (which you created earlier in the module).\n",
    "\n",
    "# * Fetch and display the account balance associated with your Ethereum account\n",
    "# address.\n",
    "\n",
    "# * Calculate the total value of an Ethereum transaction, including the gas\n",
    "# estimate, that pays a KryptoJobs2Go candidate for their work.\n",
    "\n",
    "# * Digitally sign a transaction that pays a KryptoJobs2Go candidate, and send\n",
    "# this transaction to the Ganache blockchain.\n",
    "\n",
    "# * Review the transaction hash code associated with the validated blockchain transaction.\n",
    "\n",
    "# Once you receive the transaction’s hash code, you will navigate to the Transactions\n",
    "# section of Ganache to review the blockchain transaction details. To confirm that\n",
    "# you have successfully created the transaction, you will save screenshots to the\n",
    "# README.md file of your GitHub repository for this Challenge assignment."
   ]
  },
  {
   "cell_type": "code",
   "execution_count": 2,
   "id": "b761c505",
   "metadata": {},
   "outputs": [
    {
     "name": "stderr",
     "output_type": "stream",
     "text": [
      "2022-10-31 19:25:07.471 INFO    numexpr.utils: NumExpr defaulting to 8 threads.\n"
     ]
    }
   ],
   "source": [
    "################################################################################\n",
    "# Imports\n",
    "import streamlit as st\n",
    "from dataclasses import dataclass\n",
    "from typing import Any, List\n",
    "from web3 import Web3\n",
    "\n",
    "w3 = Web3(Web3.HTTPProvider(\"HTTP://127.0.0.1:7545\"))"
   ]
  },
  {
   "cell_type": "code",
   "execution_count": 3,
   "id": "9f4f0770",
   "metadata": {},
   "outputs": [],
   "source": [
    "################################################################################\n",
    "# Step 1:\n",
    "# Import Ethereum Transaction Functions into the KryptoJobs2Go Application\n",
    "\n",
    "# In this section, you'll import several functions from the `crypto_wallet.py`\n",
    "# script into the file `krypto_jobs.py`, which contains code for Fintech\n",
    "# Finder’s customer interface, in order to add wallet operations to the\n",
    "# application. For this section, you will assume the perspective of a Fintech\n",
    "# Finder customer (i.e., you’ll provide your Ethereum wallet and account\n",
    "# information to the application).\n",
    "\n",
    "# Complete the following steps:\n",
    "\n",
    "# 1. Review the code contained in the `crypto_wallet.py` script file. Note that\n",
    "# the Ethereum transaction functions that you have built throughout this\n",
    "# module-including `wallet`, `wallet.derive_acount`, `get_balance`, `fromWei`,\n",
    "# `estimateGas`, `sendRawTransaction`, and others&mdash;have now been\n",
    "# incorporated into Python functions that allow you to automate the process of\n",
    "# accessing them.\n",
    "\n",
    "# 2. Add your mnemonic seed phrase (provided by Ganache) to the starter code’s `SAMPLE.env` file.\n",
    "# When the information has been added, rename the file `.env`.\n",
    "\n",
    "# 3. Import the following functions from the `crypto_wallet.py` file:\n",
    "# * `generate_account`\n",
    "# * `get_balance`\n",
    "# * `send_transaction`\n",
    "\n",
    "# 4. Within the Streamlit sidebar section of code, create a variable named\n",
    "# `account`. Set this variable equal to a call on the `generate_account`\n",
    "# function. This function will create the KryptoJobs2Go customer’s (in this\n",
    "# case, your) HD wallet and Ethereum account.\n",
    "\n",
    "# 5. Within this same section of the `krypto_jobs.py` file, define a\n",
    "# new `st.sidebar.write` function that will display the balance of the\n",
    "# customer’s account. Inside this function, call the `get_balance` function\n",
    "# and pass it your Ethereum `account.address`."
   ]
  },
  {
   "cell_type": "code",
   "execution_count": 4,
   "id": "d90c5fef",
   "metadata": {},
   "outputs": [],
   "source": [
    "################################################################################\n",
    "# Step 1 - Part 3:\n",
    "# Import the following functions from the `crypto_wallet.py` file:\n",
    "# * `generate_account`\n",
    "# * `get_balance`\n",
    "# * `send_transaction`\n",
    "\n",
    "# @TODO:\n",
    "# From `crypto_wallet.py import the functions generate_account, get_balance,\n",
    "#  and send_transaction\n",
    "from crypto_wallet import generate_account, get_balance, send_transaction\n",
    "\n",
    "################################################################################"
   ]
  },
  {
   "cell_type": "code",
   "execution_count": 5,
   "id": "661f8934",
   "metadata": {},
   "outputs": [],
   "source": [
    "# KryptoJobs2Go Candidate Information\n",
    "\n",
    "# Database of KryptoJobs2Go candidates including their name, digital address, rating and hourly cost per Ether.\n",
    "# A single Ether is currently valued at $1,500\n",
    "candidate_database = {\n",
    "    \"Lane\": [\n",
    "        \"Lane\",\n",
    "        \"0xaC8eB8B2ed5C4a0fC41a84Ee4950F417f67029F0\",\n",
    "        \"4.3\",\n",
    "        0.20,\n",
    "        \"Images/lane.jpeg\",\n",
    "    ],\n",
    "    \"Ash\": [\n",
    "        \"Ash\",\n",
    "        \"0x2422858F9C4480c2724A309D58Ffd7Ac8bF65396\",\n",
    "        \"5.0\",\n",
    "        0.33,\n",
    "        \"Images/ash.jpeg\",\n",
    "    ],\n",
    "    \"Jo\": [\n",
    "        \"Jo\",\n",
    "        \"0x8fD00f170FDf3772C5ebdCD90bF257316c69BA45\",\n",
    "        \"4.7\",\n",
    "        0.19,\n",
    "        \"Images/jo.jpeg\",\n",
    "    ],\n",
    "    \"Kendall\": [\n",
    "        \"Kendall\",\n",
    "        \"0x8fD00f170FDf3772C5ebdCD90bF257316c69BA45\",\n",
    "        \"4.1\",\n",
    "        0.16,\n",
    "        \"Images/kendall.jpeg\",\n",
    "    ],\n",
    "}\n",
    "\n",
    "# A list of the KryptoJobs2Go candidates first names\n",
    "people = [\"Lane\", \"Ash\", \"Jo\", \"Kendall\"]\n",
    "\n",
    "\n",
    "def get_people():\n",
    "    \"\"\"Display the database of KryptoJobs2Go candidate information.\"\"\"\n",
    "    db_list = list(candidate_database.values())\n",
    "\n",
    "    for number in range(len(people)):\n",
    "        st.image(db_list[number][4], width=200)\n",
    "        st.write(\"Name: \", db_list[number][0])\n",
    "        st.write(\"Ethereum Account Address: \", db_list[number][1])\n",
    "        st.write(\"KryptoJobs2Go Rating: \", db_list[number][2])\n",
    "        st.write(\"Hourly Rate per Ether: \", db_list[number][3], \"eth\")\n",
    "        st.text(\" \\n\")"
   ]
  },
  {
   "cell_type": "code",
   "execution_count": 6,
   "id": "7d6c2439",
   "metadata": {},
   "outputs": [
    {
     "name": "stderr",
     "output_type": "stream",
     "text": [
      "2022-10-31 19:25:09.577 \n",
      "  \u001b[33m\u001b[1mWarning:\u001b[0m to view this Streamlit app on a browser, run it with the following\n",
      "  command:\n",
      "\n",
      "    streamlit run C:\\Users\\fizza\\anaconda3\\envs\\dev1\\lib\\site-packages\\ipykernel_launcher.py [ARGUMENTS]\n"
     ]
    },
    {
     "data": {
      "text/plain": [
       "DeltaGenerator(_root_container=0, _provided_cursor=None, _parent=None, _block_type=None, _form_data=None)"
      ]
     },
     "execution_count": 6,
     "metadata": {},
     "output_type": "execute_result"
    }
   ],
   "source": [
    "################################################################################\n",
    "# Streamlit Code\n",
    "\n",
    "# Streamlit application headings\n",
    "st.markdown(\"# KryptoJobs2Go!\")\n",
    "st.markdown(\"## Hire A Fintech Professional!\")\n",
    "st.text(\" \\n\")"
   ]
  },
  {
   "cell_type": "code",
   "execution_count": 7,
   "id": "d58b5567",
   "metadata": {},
   "outputs": [
    {
     "data": {
      "text/plain": [
       "DeltaGenerator(_root_container=1, _provided_cursor=None, _parent=DeltaGenerator(_root_container=0, _provided_cursor=None, _parent=None, _block_type=None, _form_data=None), _block_type=None, _form_data=None)"
      ]
     },
     "execution_count": 7,
     "metadata": {},
     "output_type": "execute_result"
    }
   ],
   "source": [
    "################################################################################\n",
    "# Streamlit Sidebar Code - Start\n",
    "\n",
    "st.sidebar.markdown(\"## Client Account Address and Ethernet Balance in Ether\")"
   ]
  },
  {
   "cell_type": "code",
   "execution_count": 8,
   "id": "0b12bfd2",
   "metadata": {},
   "outputs": [],
   "source": [
    "##########################################\n",
    "# Step 1 - Part 4:\n",
    "# Create a variable named `account`. Set this variable equal to a call on the\n",
    "# `generate_account` function. This function will create the KryptoJobs2Go\n",
    "# customer’s (in this case, your) HD wallet and Ethereum account.\n",
    "\n",
    "# @TODO:\n",
    "#  Call the `generate_account` function and save it as the variable `account`\n",
    "account = generate_account()"
   ]
  },
  {
   "cell_type": "code",
   "execution_count": 9,
   "id": "2185a335",
   "metadata": {},
   "outputs": [],
   "source": [
    "##########################################\n",
    "\n",
    "# Write the client's Ethereum account address to the sidebar\n",
    "st.sidebar.write(account.address)"
   ]
  },
  {
   "cell_type": "code",
   "execution_count": 10,
   "id": "16400e3f",
   "metadata": {},
   "outputs": [],
   "source": [
    "##########################################\n",
    "# Step 1 - Part 5:\n",
    "# Define a new `st.sidebar.write` function that will display the balance of the\n",
    "# customer’s account. Inside this function, call the `get_balance` function and\n",
    "#  pass it your Ethereum `account.address`.\n",
    "\n",
    "# @TODO\n",
    "# Call `get_balance` function and pass it your account address\n",
    "# Write the returned ether balance to the sidebar\n",
    "# YOUR CODE HERE"
   ]
  },
  {
   "cell_type": "code",
   "execution_count": 11,
   "id": "7e4c81e7",
   "metadata": {},
   "outputs": [],
   "source": [
    "##########################################\n",
    "\n",
    "# Create a select box to chose a FinTech Hire candidate\n",
    "person = st.sidebar.selectbox(\"Select a Person\", people)"
   ]
  },
  {
   "cell_type": "code",
   "execution_count": 12,
   "id": "08d14962",
   "metadata": {},
   "outputs": [
    {
     "data": {
      "text/plain": [
       "DeltaGenerator(_root_container=1, _provided_cursor=None, _parent=DeltaGenerator(_root_container=0, _provided_cursor=None, _parent=None, _block_type=None, _form_data=None), _block_type=None, _form_data=None)"
      ]
     },
     "execution_count": 12,
     "metadata": {},
     "output_type": "execute_result"
    }
   ],
   "source": [
    "# Create a input field to record the number of hours the candidate worked\n",
    "hours = st.sidebar.number_input(\"Number of Hours\")\n",
    "st.sidebar.markdown(\"## Candidate Name, Hourly Rate, and Ethereum Address\")"
   ]
  },
  {
   "cell_type": "code",
   "execution_count": 13,
   "id": "cab6b917",
   "metadata": {},
   "outputs": [],
   "source": [
    "# Identify the FinTech Hire candidate\n",
    "candidate = candidate_database[person][0]"
   ]
  },
  {
   "cell_type": "code",
   "execution_count": 14,
   "id": "b5c29884",
   "metadata": {},
   "outputs": [],
   "source": [
    "# Write the KryptoJobs2Go candidate's name to the sidebar\n",
    "st.sidebar.write(candidate)"
   ]
  },
  {
   "cell_type": "code",
   "execution_count": 15,
   "id": "b13210a5",
   "metadata": {},
   "outputs": [],
   "source": [
    "# Identify the KryptoJobs2Go candidate's hourly rate\n",
    "hourly_rate = candidate_database[person][3]"
   ]
  },
  {
   "cell_type": "code",
   "execution_count": 16,
   "id": "fc211ff4",
   "metadata": {},
   "outputs": [],
   "source": [
    "# Write the inTech Finder candidate's hourly rate to the sidebar\n",
    "st.sidebar.write(hourly_rate)"
   ]
  },
  {
   "cell_type": "code",
   "execution_count": 17,
   "id": "9f5643b0",
   "metadata": {},
   "outputs": [],
   "source": [
    "# Identify the KryptoJobs2Go candidate's Ethereum Address\n",
    "candidate_address = candidate_database[person][1]"
   ]
  },
  {
   "cell_type": "code",
   "execution_count": 18,
   "id": "eddcc1a4",
   "metadata": {},
   "outputs": [],
   "source": [
    "# Write the inTech Finder candidate's Ethereum Address to the sidebar\n",
    "st.sidebar.write(candidate_address)"
   ]
  },
  {
   "cell_type": "code",
   "execution_count": 19,
   "id": "aa46dedd",
   "metadata": {},
   "outputs": [
    {
     "data": {
      "text/plain": [
       "DeltaGenerator(_root_container=1, _provided_cursor=None, _parent=DeltaGenerator(_root_container=0, _provided_cursor=None, _parent=None, _block_type=None, _form_data=None), _block_type=None, _form_data=None)"
      ]
     },
     "execution_count": 19,
     "metadata": {},
     "output_type": "execute_result"
    }
   ],
   "source": [
    "# Write the KryptoJobs2Go candidate's name to the sidebar\n",
    "\n",
    "st.sidebar.markdown(\"## Total Wage in Ether\")"
   ]
  },
  {
   "cell_type": "code",
   "execution_count": 20,
   "id": "4b67f4f0",
   "metadata": {},
   "outputs": [],
   "source": [
    "################################################################################\n",
    "# Step 2: Sign and Execute a Payment Transaction\n",
    "\n",
    "# Complete the following steps:\n",
    "\n",
    "# 1. KryptoJobs2Go customers will select a fintech professional from the\n",
    "# application interface’s drop-down menu, and then input the amount of time for\n",
    "# which they’ll hire the worker. Code the application so that once a customer\n",
    "# completes these steps, the application will calculate the amount that the\n",
    "# worker will be paid in ether. To do so, complete the following steps:\n",
    "\n",
    "# * Write the equation that calculates the candidate’s wage. This equation\n",
    "#  should assess the candidate’s hourly rate from the candidate database\n",
    "# (`candidate_database[person][3]`) and then multiply this hourly rate by\n",
    "# the value of the `hours` variable. Save this calculation’s output as a\n",
    "# variable named `wage`.\n",
    "\n",
    "# * Write the `wage` variable to the Streamlit sidebar by\n",
    "# using `st.sidebar.write`.\n",
    "\n",
    "# 2. Now that the application can calculate a candidate’s wage, write the code\n",
    "# that will allow a customer (you, in this case) to send an Ethereum blockchain\n",
    "# transaction that pays the hired candidate. To accomplish this, locate the\n",
    "# code that reads `if st.sidebar.button(\"Send Transaction\")`. You’ll need to\n",
    "# add logic to this `if` statement that sends the appropriate information to\n",
    "# the `send_transaction` function (which you imported from the `crypto_wallet`\n",
    "# script file). Inside the `if` statement, add the following functionality:\n",
    "\n",
    "# * Call the `send_transaction()` function and pass it three parameters:\n",
    "# - Your Ethereum `account` information. (Remember that this `account`\n",
    "# instance was created when the `generate_account` function was called.)\n",
    "#  From the `account` instance, the application will be able to access the\n",
    "#  `account.address` information that is needed to populate the `from` data\n",
    "# attribute in the raw transaction.\n",
    "# - The `candidate_address` (which will be created and identified in the\n",
    "# sidebar when a customer selects a candidate). This will populate the `to`\n",
    "# data attribute in the raw transaction.\n",
    "# - The `wage` value. This will be passed to the `toWei` function to\n",
    "# determine the wei value of the payment in the raw transaction.\n",
    "\n",
    "# * Save the transaction hash that the `send_transaction` function returns\n",
    "# as a variable named `transaction_hash`, and have it display on the\n",
    "# application’s web interface.\n",
    "\n",
    "##########################################"
   ]
  },
  {
   "cell_type": "code",
   "execution_count": 21,
   "id": "03b5da0e",
   "metadata": {},
   "outputs": [],
   "source": [
    "# Step 2 - Part 1:\n",
    "# * Write the equation that calculates the candidate’s wage. This equation\n",
    "# should assess the candidate’s hourly rate from the candidate database\n",
    "# (`candidate_database[person][3]`) and then multiply this hourly rate by\n",
    "# the value of the `hours` variable. Save this calculation’s output as a\n",
    "# variable named `wage`.\n",
    "# * Write the `wage` variable to the Streamlit sidebar by using `st.sidebar.write`.\n",
    "\n",
    "# @TODO\n",
    "# Calculate total `wage` for the candidate by multiplying the candidate’s hourly\n",
    "# rate from the candidate database (`candidate_database[person][3]`) by the\n",
    "# value of the `hours` variable\n",
    "wage = hours * hourly_rate\n",
    "\n",
    "# @TODO\n",
    "# Write the `wage` calculation to the Streamlit sidebar\n",
    "st.sidebar.write(wage)\n"
   ]
  },
  {
   "cell_type": "code",
   "execution_count": 22,
   "id": "bd9b2fa1",
   "metadata": {},
   "outputs": [],
   "source": [
    "##########################################\n",
    "# Step 2 - Part 2:\n",
    "# * Call the `send_transaction` function and pass it three parameters:\n",
    "# - Your Ethereum `account` information. (Remember that this `account`\n",
    "# instance was created when the `generate_account` function was called.)\n",
    "#  From the `account` instance, the application will be able to access the\n",
    "#  `account.address` information that is needed to populate the `from` data\n",
    "# attribute in the raw transaction.\n",
    "# - The `candidate_address` (which will be created and identified in the\n",
    "# sidebar when a customer selects a candidate). This will populate the `to`\n",
    "# data attribute in the raw transaction.\n",
    "# - The `wage` value. This will be passed to the `toWei` function to\n",
    "# determine the wei value of the payment in the raw transaction.\n",
    "\n",
    "# * Save the transaction hash that the `send_transaction` function returns as a\n",
    "# variable named `transaction_hash`, and have it display on the application’s\n",
    "# web interface."
   ]
  },
  {
   "cell_type": "code",
   "execution_count": 23,
   "id": "d7e78da6",
   "metadata": {},
   "outputs": [],
   "source": [
    "if st.sidebar.button(\"Send Transaction\"):\n",
    "\n",
    "    # @TODO\n",
    "    # Call the `send_transaction` function and pass it 3 parameters:\n",
    "    # Your `account`, the `candidate_address`, and the `wage` as parameters\n",
    "    # Save the returned transaction hash as a variable named `transaction_hash`\n",
    "    transaction_hash = send_transaction(w3, account, candidate_address, wage)\n",
    "\n",
    "    # Markdown for the transaction hash\n",
    "    st.sidebar.markdown(\"#### Validated Transaction Hash\")\n",
    "\n",
    "    # Write the returned transaction hash to the screen\n",
    "    st.sidebar.write(transaction_hash)\n",
    "\n",
    "    # Celebrate your successful payment\n",
    "    st.balloons()\n",
    "\n",
    "# The function that starts the Streamlit application\n",
    "# Writes KryptoJobs2Go candidates to the Streamlit page\n",
    "get_people()"
   ]
  },
  {
   "cell_type": "code",
   "execution_count": 24,
   "id": "273791f5",
   "metadata": {},
   "outputs": [],
   "source": [
    "################################################################################\n",
    "# Step 3: Inspect the Transaction\n",
    "\n",
    "# Send a test transaction by using the application’s web interface, and then\n",
    "# look up the resulting transaction hash in Ganache.\n",
    "\n",
    "# Complete the following steps:\n",
    "\n",
    "# 1. From your terminal, navigate to the project folder that contains\n",
    "# your `.env` file and the `krypto_jobs.py` and `crypto_wallet.py` files.\n",
    "# Be sure to activate your Conda `dev` environment if it is not already active.\n",
    "\n",
    "# 2. To launch the Streamlit application,\n",
    "# type `streamlit run krypto_jobs.py`.\n",
    "\n",
    "# 3. On the resulting webpage, select a candidate that you would like to hire\n",
    "# from the appropriate drop-down menu. Then, enter the number of hours that you\n",
    "# would like to hire them for. (Remember, you do not have a lot of ether in\n",
    "# your account, so you cannot hire them for long!)\n",
    "\n",
    "# 4 Click the Send Transaction button to sign and send the transaction with\n",
    "# your Ethereum account information. If the transaction is successfully\n",
    "# communicated to Ganache, validated, and added to a block,\n",
    "# a resulting transaction hash code will be written to the Streamlit\n",
    "# application sidebar.\n",
    "\n",
    "# 5. Navigate to the Ganache accounts tab and locate your account (index 0).\n",
    "# * Take a screenshot of the address, balance, and transaction (TX) count.\n",
    "# Save this screenshot to the README.md file of your GitHub repository for\n",
    "#  this Challenge assignment.\n",
    "\n",
    "# 6. Navigate to the Ganache transactions tab and locate the transaction.\n",
    "# * Click the transaction and take a screenshot of it.\n",
    "# Save this screenshot to the README.md file of your GitHub repository for\n",
    "#  this Challenge assignment."
   ]
  }
 ],
 "metadata": {
  "kernelspec": {
   "display_name": "dev1",
   "language": "python",
   "name": "dev1"
  },
  "language_info": {
   "codemirror_mode": {
    "name": "ipython",
    "version": 3
   },
   "file_extension": ".py",
   "mimetype": "text/x-python",
   "name": "python",
   "nbconvert_exporter": "python",
   "pygments_lexer": "ipython3",
   "version": "3.9.12"
  }
 },
 "nbformat": 4,
 "nbformat_minor": 5
}
